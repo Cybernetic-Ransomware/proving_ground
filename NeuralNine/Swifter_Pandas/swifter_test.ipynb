{
 "cells": [
  {
   "cell_type": "code",
   "execution_count": 17,
   "metadata": {
    "collapsed": true,
    "pycharm": {
     "name": "#%%\n"
    }
   },
   "outputs": [],
   "source": [
    "import time\n",
    "import datetime as dt\n",
    "\n",
    "import pandas as pd\n",
    "import pandas_datareader as web"
   ]
  },
  {
   "cell_type": "code",
   "execution_count": 19,
   "outputs": [],
   "source": [
    "start = dt.datetime(2000, 1, 1)\n",
    "end = dt.datetime.now()\n",
    "\n",
    "df = web.DataReader('GS', 'yahoo', start, end)"
   ],
   "metadata": {
    "collapsed": false,
    "pycharm": {
     "name": "#%%\n"
    }
   }
  },
  {
   "cell_type": "code",
   "execution_count": 20,
   "outputs": [
    {
     "data": {
      "text/plain": "                  High         Low        Open       Close     Volume  \\\nDate                                                                    \n2000-01-03   94.375000   87.750000   94.187500   88.312500  1822600.0   \n2000-01-04   87.500000   82.250000   87.000000   82.750000  1647700.0   \n2000-01-05   81.875000   78.375000   80.875000   78.875000  1516600.0   \n2000-01-06   84.500000   78.625000   78.625000   82.250000  1845100.0   \n2000-01-07   83.187500   79.875000   83.062500   82.562500  1127400.0   \n...                ...         ...         ...         ...        ...   \n2022-08-23  344.070007  339.029999  341.950012  340.179993  1538000.0   \n2022-08-24  344.320007  338.489990  339.019989  341.940002  1530800.0   \n2022-08-25  346.859985  342.109985  344.450012  346.489990  1763900.0   \n2022-08-26  348.739990  336.000000  348.339996  336.399994  1703500.0   \n2022-08-29  336.399994  332.010010  333.920013  333.920013  1742535.0   \n\n             Adj Close  \nDate                    \n2000-01-03   67.097557  \n2000-01-04   62.871323  \n2000-01-05   59.927189  \n2000-01-06   62.491417  \n2000-01-07   62.728821  \n...                ...  \n2022-08-23  340.179993  \n2022-08-24  341.940002  \n2022-08-25  346.489990  \n2022-08-26  336.399994  \n2022-08-29  333.920013  \n\n[5701 rows x 6 columns]",
      "text/html": "<div>\n<style scoped>\n    .dataframe tbody tr th:only-of-type {\n        vertical-align: middle;\n    }\n\n    .dataframe tbody tr th {\n        vertical-align: top;\n    }\n\n    .dataframe thead th {\n        text-align: right;\n    }\n</style>\n<table border=\"1\" class=\"dataframe\">\n  <thead>\n    <tr style=\"text-align: right;\">\n      <th></th>\n      <th>High</th>\n      <th>Low</th>\n      <th>Open</th>\n      <th>Close</th>\n      <th>Volume</th>\n      <th>Adj Close</th>\n    </tr>\n    <tr>\n      <th>Date</th>\n      <th></th>\n      <th></th>\n      <th></th>\n      <th></th>\n      <th></th>\n      <th></th>\n    </tr>\n  </thead>\n  <tbody>\n    <tr>\n      <th>2000-01-03</th>\n      <td>94.375000</td>\n      <td>87.750000</td>\n      <td>94.187500</td>\n      <td>88.312500</td>\n      <td>1822600.0</td>\n      <td>67.097557</td>\n    </tr>\n    <tr>\n      <th>2000-01-04</th>\n      <td>87.500000</td>\n      <td>82.250000</td>\n      <td>87.000000</td>\n      <td>82.750000</td>\n      <td>1647700.0</td>\n      <td>62.871323</td>\n    </tr>\n    <tr>\n      <th>2000-01-05</th>\n      <td>81.875000</td>\n      <td>78.375000</td>\n      <td>80.875000</td>\n      <td>78.875000</td>\n      <td>1516600.0</td>\n      <td>59.927189</td>\n    </tr>\n    <tr>\n      <th>2000-01-06</th>\n      <td>84.500000</td>\n      <td>78.625000</td>\n      <td>78.625000</td>\n      <td>82.250000</td>\n      <td>1845100.0</td>\n      <td>62.491417</td>\n    </tr>\n    <tr>\n      <th>2000-01-07</th>\n      <td>83.187500</td>\n      <td>79.875000</td>\n      <td>83.062500</td>\n      <td>82.562500</td>\n      <td>1127400.0</td>\n      <td>62.728821</td>\n    </tr>\n    <tr>\n      <th>...</th>\n      <td>...</td>\n      <td>...</td>\n      <td>...</td>\n      <td>...</td>\n      <td>...</td>\n      <td>...</td>\n    </tr>\n    <tr>\n      <th>2022-08-23</th>\n      <td>344.070007</td>\n      <td>339.029999</td>\n      <td>341.950012</td>\n      <td>340.179993</td>\n      <td>1538000.0</td>\n      <td>340.179993</td>\n    </tr>\n    <tr>\n      <th>2022-08-24</th>\n      <td>344.320007</td>\n      <td>338.489990</td>\n      <td>339.019989</td>\n      <td>341.940002</td>\n      <td>1530800.0</td>\n      <td>341.940002</td>\n    </tr>\n    <tr>\n      <th>2022-08-25</th>\n      <td>346.859985</td>\n      <td>342.109985</td>\n      <td>344.450012</td>\n      <td>346.489990</td>\n      <td>1763900.0</td>\n      <td>346.489990</td>\n    </tr>\n    <tr>\n      <th>2022-08-26</th>\n      <td>348.739990</td>\n      <td>336.000000</td>\n      <td>348.339996</td>\n      <td>336.399994</td>\n      <td>1703500.0</td>\n      <td>336.399994</td>\n    </tr>\n    <tr>\n      <th>2022-08-29</th>\n      <td>336.399994</td>\n      <td>332.010010</td>\n      <td>333.920013</td>\n      <td>333.920013</td>\n      <td>1742535.0</td>\n      <td>333.920013</td>\n    </tr>\n  </tbody>\n</table>\n<p>5701 rows × 6 columns</p>\n</div>"
     },
     "execution_count": 20,
     "metadata": {},
     "output_type": "execute_result"
    }
   ],
   "source": [
    "df"
   ],
   "metadata": {
    "collapsed": false,
    "pycharm": {
     "name": "#%%\n"
    }
   }
  },
  {
   "cell_type": "code",
   "execution_count": 21,
   "outputs": [],
   "source": [
    "def slow_func(row):\n",
    "    time.sleep(.001)\n",
    "    return row"
   ],
   "metadata": {
    "collapsed": false,
    "pycharm": {
     "name": "#%%\n"
    }
   }
  },
  {
   "cell_type": "code",
   "execution_count": 22,
   "outputs": [
    {
     "data": {
      "text/plain": "Date\n2000-01-03    88.312500\n2000-01-04    82.750000\n2000-01-05    78.875000\n2000-01-06    82.250000\n2000-01-07    82.562500\n                ...    \n2003-12-18    97.349998\n2003-12-19    96.379997\n2003-12-22    98.150002\n2003-12-23    98.220001\n2003-12-24    97.550003\nName: Close, Length: 1000, dtype: float64"
     },
     "execution_count": 22,
     "metadata": {},
     "output_type": "execute_result"
    }
   ],
   "source": [
    "df['Close'].iloc[:1000]"
   ],
   "metadata": {
    "collapsed": false,
    "pycharm": {
     "name": "#%%\n"
    }
   }
  },
  {
   "cell_type": "code",
   "execution_count": 24,
   "outputs": [],
   "source": [
    "t1 = time.time()\n",
    "df['Close'].iloc[:1000].apply(slow_func)\n",
    "t2 = time.time()"
   ],
   "metadata": {
    "collapsed": false,
    "pycharm": {
     "name": "#%%\n"
    }
   }
  },
  {
   "cell_type": "code",
   "execution_count": 25,
   "outputs": [
    {
     "name": "stdout",
     "output_type": "stream",
     "text": [
      "15.421449184417725\n"
     ]
    }
   ],
   "source": [
    "print(t2-t1)"
   ],
   "metadata": {
    "collapsed": false,
    "pycharm": {
     "name": "#%%\n"
    }
   }
  },
  {
   "cell_type": "markdown",
   "source": [
    "\n",
    "___\n"
   ],
   "metadata": {
    "collapsed": false,
    "pycharm": {
     "name": "#%% md\n"
    }
   }
  },
  {
   "cell_type": "code",
   "execution_count": 27,
   "outputs": [],
   "source": [
    "import swifter"
   ],
   "metadata": {
    "collapsed": false,
    "pycharm": {
     "name": "#%%\n"
    }
   }
  },
  {
   "cell_type": "code",
   "execution_count": 28,
   "outputs": [],
   "source": [
    "t1 = time.time()\n",
    "df['Close'].iloc[:1000].swifter.apply(slow_func)\n",
    "t2 = time.time()"
   ],
   "metadata": {
    "collapsed": false,
    "pycharm": {
     "name": "#%%\n"
    }
   }
  },
  {
   "cell_type": "code",
   "execution_count": 29,
   "outputs": [
    {
     "name": "stdout",
     "output_type": "stream",
     "text": [
      "0.6452770233154297\n"
     ]
    }
   ],
   "source": [
    "print(t2-t1)"
   ],
   "metadata": {
    "collapsed": false,
    "pycharm": {
     "name": "#%%\n"
    }
   }
  },
  {
   "cell_type": "markdown",
   "source": [
    "\n",
    "___\n"
   ],
   "metadata": {
    "collapsed": false,
    "pycharm": {
     "name": "#%% md\n"
    }
   }
  },
  {
   "cell_type": "code",
   "execution_count": 32,
   "outputs": [],
   "source": [
    "import math\n",
    "from decimal import Decimal"
   ],
   "metadata": {
    "collapsed": false,
    "pycharm": {
     "name": "#%%\n"
    }
   }
  },
  {
   "cell_type": "code",
   "execution_count": 35,
   "outputs": [],
   "source": [
    "t1 = time.time()\n",
    "df['Close'].apply(lambda x: Decimal(math.factorial(int(x*50))))\n",
    "t2 = time.time()"
   ],
   "metadata": {
    "collapsed": false,
    "pycharm": {
     "name": "#%%\n"
    }
   }
  },
  {
   "cell_type": "code",
   "execution_count": 36,
   "outputs": [
    {
     "name": "stdout",
     "output_type": "stream",
     "text": [
      "68.86202096939087\n"
     ]
    }
   ],
   "source": [
    "print(t2-t1)"
   ],
   "metadata": {
    "collapsed": false,
    "pycharm": {
     "name": "#%%\n"
    }
   }
  },
  {
   "cell_type": "markdown",
   "source": [
    "\n",
    "___\n"
   ],
   "metadata": {
    "collapsed": false,
    "pycharm": {
     "name": "#%% md\n"
    }
   }
  },
  {
   "cell_type": "code",
   "execution_count": 37,
   "outputs": [
    {
     "data": {
      "text/plain": "Dask Apply:   0%|          | 0/24 [00:00<?, ?it/s]",
      "application/vnd.jupyter.widget-view+json": {
       "version_major": 2,
       "version_minor": 0,
       "model_id": "a2a2ff59de1f41b7a165d45ce8660f9a"
      },
      "application/json": {
       "n": 0,
       "total": 24,
       "elapsed": 0.00897526741027832,
       "ncols": null,
       "nrows": null,
       "prefix": "Dask Apply",
       "ascii": false,
       "unit": "it",
       "unit_scale": false,
       "rate": null,
       "bar_format": null,
       "postfix": null,
       "unit_divisor": 1000,
       "initial": 0,
       "colour": null
      }
     },
     "metadata": {},
     "output_type": "display_data"
    }
   ],
   "source": [
    "t1 = time.time()\n",
    "df['Close'].swifter.apply(lambda x: Decimal(math.factorial(int(x*25))))\n",
    "t2 = time.time()"
   ],
   "metadata": {
    "collapsed": false,
    "pycharm": {
     "name": "#%%\n"
    }
   }
  },
  {
   "cell_type": "code",
   "execution_count": 38,
   "outputs": [
    {
     "name": "stdout",
     "output_type": "stream",
     "text": [
      "13.658550262451172\n"
     ]
    }
   ],
   "source": [
    "print(t2-t1)"
   ],
   "metadata": {
    "collapsed": false,
    "pycharm": {
     "name": "#%%\n"
    }
   }
  },
  {
   "cell_type": "markdown",
   "source": [
    "\n",
    "___\n"
   ],
   "metadata": {
    "collapsed": false,
    "pycharm": {
     "name": "#%% md\n"
    }
   }
  },
  {
   "cell_type": "code",
   "execution_count": 50,
   "outputs": [],
   "source": [
    "t1 = time.time()\n",
    "df['Close'].apply(lambda x: x**8)\n",
    "t2 = time.time()"
   ],
   "metadata": {
    "collapsed": false,
    "pycharm": {
     "name": "#%%\n"
    }
   }
  },
  {
   "cell_type": "code",
   "execution_count": 51,
   "outputs": [
    {
     "name": "stdout",
     "output_type": "stream",
     "text": [
      "0.0019941329956054688\n"
     ]
    }
   ],
   "source": [
    "print(t2-t1)"
   ],
   "metadata": {
    "collapsed": false,
    "pycharm": {
     "name": "#%%\n"
    }
   }
  },
  {
   "cell_type": "markdown",
   "source": [
    "\n",
    "___\n"
   ],
   "metadata": {
    "collapsed": false,
    "pycharm": {
     "name": "#%% md\n"
    }
   }
  },
  {
   "cell_type": "code",
   "execution_count": 52,
   "outputs": [],
   "source": [
    "t1 = time.time()\n",
    "df['Close'].swifter.apply(lambda x: x**12)\n",
    "t2 = time.time()"
   ],
   "metadata": {
    "collapsed": false,
    "pycharm": {
     "name": "#%%\n"
    }
   }
  },
  {
   "cell_type": "code",
   "execution_count": 53,
   "outputs": [
    {
     "name": "stdout",
     "output_type": "stream",
     "text": [
      "0.000995635986328125\n"
     ]
    }
   ],
   "source": [
    "print(t2-t1)"
   ],
   "metadata": {
    "collapsed": false,
    "pycharm": {
     "name": "#%%\n"
    }
   }
  }
 ],
 "metadata": {
  "kernelspec": {
   "display_name": "Python 3",
   "language": "python",
   "name": "python3"
  },
  "language_info": {
   "codemirror_mode": {
    "name": "ipython",
    "version": 2
   },
   "file_extension": ".py",
   "mimetype": "text/x-python",
   "name": "python",
   "nbconvert_exporter": "python",
   "pygments_lexer": "ipython2",
   "version": "2.7.6"
  }
 },
 "nbformat": 4,
 "nbformat_minor": 0
}