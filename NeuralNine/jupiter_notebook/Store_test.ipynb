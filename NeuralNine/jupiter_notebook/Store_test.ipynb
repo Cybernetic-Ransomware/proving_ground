{
 "cells": [
  {
   "cell_type": "code",
   "execution_count": 6,
   "id": "4272d84b",
   "metadata": {},
   "outputs": [],
   "source": [
    "%store -r"
   ]
  },
  {
   "cell_type": "code",
   "execution_count": 7,
   "id": "78a73a43",
   "metadata": {},
   "outputs": [
    {
     "data": {
      "text/plain": [
       "[12, 22, 11, 8]"
      ]
     },
     "execution_count": 7,
     "metadata": {},
     "output_type": "execute_result"
    }
   ],
   "source": [
    "example_list"
   ]
  },
  {
   "cell_type": "code",
   "execution_count": 10,
   "id": "284a8b82",
   "metadata": {},
   "outputs": [
    {
     "name": "stdout",
     "output_type": "stream",
     "text": [
      "The Zen of Python, by Tim Peters\n",
      "\n",
      "Beautiful is better than ugly.\n",
      "Explicit is better than implicit.\n",
      "Simple is better than complex.\n",
      "Complex is better than complicated.\n",
      "Flat is better than nested.\n",
      "Sparse is better than dense.\n",
      "Readability counts.\n",
      "Special cases aren't special enough to break the rules.\n",
      "Although practicality beats purity.\n",
      "Errors should never pass silently.\n",
      "Unless explicitly silenced.\n",
      "In the face of ambiguity, refuse the temptation to guess.\n",
      "There should be one-- and preferably only one --obvious way to do it.\n",
      "Although that way may not be obvious at first unless you're Dutch.\n",
      "Now is better than never.\n",
      "Although never is often better than *right* now.\n",
      "If the implementation is hard to explain, it's a bad idea.\n",
      "If the implementation is easy to explain, it may be a good idea.\n",
      "Namespaces are one honking great idea -- let's do more of those!\n"
     ]
    }
   ],
   "source": []
  },
  {
   "cell_type": "code",
   "execution_count": 11,
   "id": "74ea02ce",
   "metadata": {},
   "outputs": [
    {
     "name": "stdout",
     "output_type": "stream",
     "text": [
      "Collecting whatever\n",
      "  Downloading whatever-0.6.tar.gz (4.7 kB)\n",
      "  Preparing metadata (setup.py): started\n",
      "  Preparing metadata (setup.py): finished with status 'done'\n",
      "Building wheels for collected packages: whatever\n",
      "  Building wheel for whatever (setup.py): started\n",
      "  Building wheel for whatever (setup.py): finished with status 'done'\n",
      "  Created wheel for whatever: filename=whatever-0.6-py3-none-any.whl size=5201 sha256=3be6ac4bcc496716ebfb0fda38af85b2e948133b12e9ac6f99ad0da4d56db363\n",
      "  Stored in directory: c:\\users\\scorpos\\appdata\\local\\pip\\cache\\wheels\\c4\\d9\\da\\768fca1b597afe8e2a104e238a703ac7063387840fe35c68c7\n",
      "Successfully built whatever\n",
      "Installing collected packages: whatever\n",
      "Successfully installed whatever-0.6\n"
     ]
    }
   ],
   "source": [
    "!pip install whatever"
   ]
  },
  {
   "cell_type": "code",
   "execution_count": 1,
   "id": "18e83b60",
   "metadata": {},
   "outputs": [
    {
     "name": "stdout",
     "output_type": "stream",
     "text": [
      "^C\n"
     ]
    }
   ],
   "source": [
    "!pip uninstall whatever"
   ]
  },
  {
   "cell_type": "code",
   "execution_count": null,
   "id": "7605cd9a",
   "metadata": {},
   "outputs": [],
   "source": []
  }
 ],
 "metadata": {
  "kernelspec": {
   "display_name": "Python 3 (ipykernel)",
   "language": "python",
   "name": "python3"
  },
  "language_info": {
   "codemirror_mode": {
    "name": "ipython",
    "version": 3
   },
   "file_extension": ".py",
   "mimetype": "text/x-python",
   "name": "python",
   "nbconvert_exporter": "python",
   "pygments_lexer": "ipython3",
   "version": "3.9.6"
  }
 },
 "nbformat": 4,
 "nbformat_minor": 5
}
